{
  "nbformat": 4,
  "nbformat_minor": 0,
  "metadata": {
    "kernelspec": {
      "display_name": "Python 3",
      "language": "python",
      "name": "python3"
    },
    "language_info": {
      "codemirror_mode": {
        "name": "ipython",
        "version": 3
      },
      "file_extension": ".py",
      "mimetype": "text/x-python",
      "name": "python",
      "nbconvert_exporter": "python",
      "pygments_lexer": "ipython3",
      "version": "3.8.5"
    },
    "colab": {
      "name": "ChatBot.ipynb",
      "provenance": [],
      "include_colab_link": true
    }
  },
  "cells": [
    {
      "cell_type": "markdown",
      "metadata": {
        "id": "view-in-github",
        "colab_type": "text"
      },
      "source": [
        "<a href=\"https://colab.research.google.com/github/isabellazramos/Chatbot/blob/main/ChatBot.ipynb\" target=\"_parent\"><img src=\"https://colab.research.google.com/assets/colab-badge.svg\" alt=\"Open In Colab\"/></a>"
      ]
    },
    {
      "cell_type": "markdown",
      "metadata": {
        "id": "gOubHWcLWbb9"
      },
      "source": [
        "# Chatbot"
      ]
    },
    {
      "cell_type": "code",
      "metadata": {
        "colab": {
          "base_uri": "https://localhost:8080/"
        },
        "id": "NyaXz_sqWbcG",
        "outputId": "32496462-f28a-4a4c-bde6-4bff2ac5ae52"
      },
      "source": [
        "#Instalação de Library\n",
        "\n",
        "!pip3 install chatterbot\n",
        "!pip install ChatterBot-corpus\n",
        "!pip install awscli==1.11.18"
      ],
      "execution_count": 1,
      "outputs": [
        {
          "output_type": "stream",
          "text": [
            "Collecting chatterbot\n",
            "\u001b[?25l  Downloading https://files.pythonhosted.org/packages/7c/21/85c2b114bd9dfabdd46ba58fc4519acdaed45d8c70898d40079e37a45e67/ChatterBot-1.0.8-py2.py3-none-any.whl (63kB)\n",
            "\u001b[K     |████████████████████████████████| 71kB 2.7MB/s \n",
            "\u001b[?25hCollecting sqlalchemy<1.4,>=1.3\n",
            "\u001b[?25l  Downloading https://files.pythonhosted.org/packages/31/44/a86070dda790ce94cd7d9fb9281cd614c7d30850ed774ace9a84d0d5d491/SQLAlchemy-1.3.24-cp37-cp37m-manylinux2010_x86_64.whl (1.3MB)\n",
            "\u001b[K     |████████████████████████████████| 1.3MB 5.4MB/s \n",
            "\u001b[?25hRequirement already satisfied: pytz in /usr/local/lib/python3.7/dist-packages (from chatterbot) (2018.9)\n",
            "Collecting mathparse<0.2,>=0.1\n",
            "  Downloading https://files.pythonhosted.org/packages/c3/e5/4910fb85950cb960fcf3f5aabe1c8e55f5c9201788a1c1302b570a7e1f84/mathparse-0.1.2-py3-none-any.whl\n",
            "Requirement already satisfied: python-dateutil<2.9,>=2.8 in /usr/local/lib/python3.7/dist-packages (from chatterbot) (2.8.1)\n",
            "Requirement already satisfied: six>=1.5 in /usr/local/lib/python3.7/dist-packages (from python-dateutil<2.9,>=2.8->chatterbot) (1.15.0)\n",
            "Installing collected packages: sqlalchemy, mathparse, chatterbot\n",
            "  Found existing installation: SQLAlchemy 1.4.15\n",
            "    Uninstalling SQLAlchemy-1.4.15:\n",
            "      Successfully uninstalled SQLAlchemy-1.4.15\n",
            "Successfully installed chatterbot-1.0.8 mathparse-0.1.2 sqlalchemy-1.3.24\n",
            "Collecting ChatterBot-corpus\n",
            "\u001b[?25l  Downloading https://files.pythonhosted.org/packages/ed/19/f8b41daf36fe4b0f43e283a820362ffdb2c1128600ab4ee187e84262fa4d/chatterbot_corpus-1.2.0-py2.py3-none-any.whl (117kB)\n",
            "\u001b[K     |████████████████████████████████| 122kB 4.0MB/s \n",
            "\u001b[?25hRequirement already satisfied: PyYAML<4.0,>=3.12 in /usr/local/lib/python3.7/dist-packages (from ChatterBot-corpus) (3.13)\n",
            "Installing collected packages: ChatterBot-corpus\n",
            "Successfully installed ChatterBot-corpus-1.2.0\n",
            "Collecting awscli==1.11.18\n",
            "\u001b[?25l  Downloading https://files.pythonhosted.org/packages/8d/40/fe038dbca1be0fdaf4b873f92acb8f10bf7e0d774bff2c6f4e6857ce4137/awscli-1.11.18-py2.py3-none-any.whl (1.0MB)\n",
            "\u001b[K     |████████████████████████████████| 1.0MB 4.0MB/s \n",
            "\u001b[?25hCollecting s3transfer<0.2.0,>=0.1.9\n",
            "\u001b[?25l  Downloading https://files.pythonhosted.org/packages/d7/14/2a0004d487464d120c9fb85313a75cd3d71a7506955be458eebfe19a6b1d/s3transfer-0.1.13-py2.py3-none-any.whl (59kB)\n",
            "\u001b[K     |████████████████████████████████| 61kB 6.7MB/s \n",
            "\u001b[?25hRequirement already satisfied: docutils>=0.10 in /usr/local/lib/python3.7/dist-packages (from awscli==1.11.18) (0.17.1)\n",
            "Collecting rsa<=3.5.0,>=3.1.2\n",
            "\u001b[?25l  Downloading https://files.pythonhosted.org/packages/e1/ae/baedc9cb175552e95f3395c43055a6a5e125ae4d48a1d7a924baca83e92e/rsa-3.4.2-py2.py3-none-any.whl (46kB)\n",
            "\u001b[K     |████████████████████████████████| 51kB 6.6MB/s \n",
            "\u001b[?25hCollecting colorama<=0.3.7,>=0.2.5\n",
            "  Downloading https://files.pythonhosted.org/packages/b7/8e/ddb32ddaabd431813e180ca224e844bab8ad42fbb47ee07553f0ec44cd86/colorama-0.3.7-py2.py3-none-any.whl\n",
            "Collecting botocore==1.4.75\n",
            "\u001b[?25l  Downloading https://files.pythonhosted.org/packages/5d/dd/a6d9f1c3262812737bc5b7e8da0199a67134bda2959d59769013bbc099f7/botocore-1.4.75-py2.py3-none-any.whl (2.8MB)\n",
            "\u001b[K     |████████████████████████████████| 2.8MB 41.4MB/s \n",
            "\u001b[?25hRequirement already satisfied: pyasn1>=0.1.3 in /usr/local/lib/python3.7/dist-packages (from rsa<=3.5.0,>=3.1.2->awscli==1.11.18) (0.4.8)\n",
            "Requirement already satisfied: python-dateutil<3.0.0,>=2.1 in /usr/local/lib/python3.7/dist-packages (from botocore==1.4.75->awscli==1.11.18) (2.8.1)\n",
            "Collecting jmespath<1.0.0,>=0.7.1\n",
            "  Downloading https://files.pythonhosted.org/packages/07/cb/5f001272b6faeb23c1c9e0acc04d48eaaf5c862c17709d20e3469c6e0139/jmespath-0.10.0-py2.py3-none-any.whl\n",
            "Requirement already satisfied: six>=1.5 in /usr/local/lib/python3.7/dist-packages (from python-dateutil<3.0.0,>=2.1->botocore==1.4.75->awscli==1.11.18) (1.15.0)\n",
            "Installing collected packages: jmespath, botocore, s3transfer, rsa, colorama, awscli\n",
            "  Found existing installation: rsa 4.7.2\n",
            "    Uninstalling rsa-4.7.2:\n",
            "      Successfully uninstalled rsa-4.7.2\n",
            "Successfully installed awscli-1.11.18 botocore-1.4.75 colorama-0.3.7 jmespath-0.10.0 rsa-3.4.2 s3transfer-0.1.13\n"
          ],
          "name": "stdout"
        }
      ]
    },
    {
      "cell_type": "code",
      "metadata": {
        "id": "XKL8ZKNmWbcI"
      },
      "source": [
        "#Importanto as Libraries\n",
        "\n",
        "from chatterbot import ChatBot\n",
        "from chatterbot.trainers import ListTrainer\n",
        "from chatterbot.trainers import ChatterBotCorpusTrainer"
      ],
      "execution_count": 2,
      "outputs": []
    },
    {
      "cell_type": "code",
      "metadata": {
        "id": "NjxDP_5qWbcJ"
      },
      "source": [
        "#Colocando o nome do Chatbot\n",
        "bot = ChatBot(\"Isabot\")"
      ],
      "execution_count": 3,
      "outputs": []
    },
    {
      "cell_type": "code",
      "metadata": {
        "id": "-Acmeic5WbcK"
      },
      "source": [
        "#Criando um banco de palavras\n",
        "bot = ChatBot(\n",
        "    'Isabot',\n",
        "    storage_adapter='chatterbot.storage.SQLStorageAdapter',\n",
        "    database_uri='sqlite:///database.sqlite3'\n",
        "    )"
      ],
      "execution_count": 4,
      "outputs": []
    },
    {
      "cell_type": "code",
      "metadata": {
        "id": "zf8xkQxJWbcL"
      },
      "source": [
        "#Usar o nome do chatbot e as lógicas de conversa.\n",
        "bot = ChatBot(\n",
        "    'Isabot',  \n",
        "    logic_adapters=[\n",
        "        'chatterbot.logic.BestMatch', 'chatterbot.logic.MathematicalEvaluation'],\n",
        ")"
      ],
      "execution_count": 5,
      "outputs": []
    },
    {
      "cell_type": "code",
      "metadata": {
        "id": "vzXsILfhWbcL",
        "colab": {
          "base_uri": "https://localhost:8080/"
        },
        "outputId": "04d33a0d-7a73-4fa6-b8d9-be25b2857422"
      },
      "source": [
        "#Montar a sabedoria do meu chatbot - como ele conversa comigo\n",
        "conversa = ChatterBotCorpusTrainer(bot)\n",
        "conversa.train('chatterbot.corpus.portuguese')\n",
        "conversa.train('chatterbot.corpus.english')\n",
        "conversa = ListTrainer(bot)\n",
        "conversa.train(['Ola, como vai você?',\n",
        "                'Eu vou bem, como você está?',\n",
        "                'Eu estou no seu computador!',\n",
        "                'O que você gosta de fazer?', 'Gosto de navegar pela internet',\n",
        "                'Você gosta de K-pop?', 'Sim, meu grupo favorito é o Dreamcatcher!',\n",
        "                'kkkkk', 'hehehe',\n",
        "                'Muito legal!', 'Sim...',\n",
        "                'Onde você mora?', 'Na internet nééé?',\n",
        "                'O que você gosta de jogar?', 'Gosto de League of Legends, jogo de Seraphine!',\n",
        "                'Você namora?', 'Não, mas você me acha la no Tinder! haha'])"
      ],
      "execution_count": 6,
      "outputs": [
        {
          "output_type": "stream",
          "text": [
            "Training compliment.yml: [####################] 100%\n",
            "Training conversations.yml: [####################] 100%\n",
            "Training greetings.yml: [####################] 100%\n",
            "Training linguistic_knowledge.yml: [####################] 100%\n",
            "Training proverbs.yml: [####################] 100%\n",
            "Training suggestions.yml: [####################] 100%\n",
            "Training trivia.yml: [####################] 100%\n",
            "Training unilab.yml: [####################] 100%\n",
            "Training ai.yml: [####################] 100%\n",
            "Training botprofile.yml: [####################] 100%\n",
            "Training computers.yml: [####################] 100%\n",
            "Training conversations.yml: [####################] 100%\n",
            "Training emotion.yml: [####################] 100%\n",
            "Training food.yml: [####################] 100%\n",
            "Training gossip.yml: [####################] 100%\n",
            "Training greetings.yml: [####################] 100%\n",
            "Training health.yml: [####################] 100%\n",
            "Training history.yml: [####################] 100%\n",
            "Training humor.yml: [####################] 100%\n",
            "Training literature.yml: [####################] 100%\n",
            "Training money.yml: [####################] 100%\n",
            "Training movies.yml: [####################] 100%\n",
            "Training politics.yml: [####################] 100%\n",
            "Training psychology.yml: [####################] 100%\n",
            "Training science.yml: [####################] 100%\n",
            "Training sports.yml: [####################] 100%\n",
            "Training trivia.yml: [####################] 100%\n",
            "List Trainer: [####################] 100%\n"
          ],
          "name": "stdout"
        }
      ]
    },
    {
      "cell_type": "code",
      "metadata": {
        "id": "vQLlh2H4WbcL",
        "colab": {
          "base_uri": "https://localhost:8080/"
        },
        "outputId": "b78c6fc8-6378-4b22-8e1b-eb1abcf26bd7"
      },
      "source": [
        "while True:\n",
        "    try:\n",
        "        resposta = bot.get_response(input(\"Usuário: \"))\n",
        "        if float(resposta.confidence) > 0:\n",
        "            print('Isabot:',resposta)\n",
        "        else:\n",
        "            print('hmm... não entendi')\n",
        "    except(KeyboardInterrupt, EOFError, SystemExit):\n",
        "        break\n"
      ],
      "execution_count": null,
      "outputs": [
        {
          "output_type": "stream",
          "text": [
            "Usuário: Oi\n",
            "Isabot: Como vai você?\n",
            "Usuário: bem e você?\n",
            "Isabot: e = 2.718281\n",
            "Usuário: bem e você?\n",
            "Isabot: e = 2.718281\n",
            "Usuário: bem e você?\n",
            "Isabot: e = 2.718281\n",
            "Usuário: Como você esta?\n",
            "Isabot: também\n",
            "Usuário: Como você esta?\n",
            "hmm... não entendi\n",
            "Usuário: Como você esta?\n",
            "hmm... não entendi\n",
            "Usuário: Tudo bem?\n",
            "Isabot: você também fala bem\n",
            "Usuário: obrigada\n",
            "hmm... não entendi\n",
            "Usuário: você gosta de kpop?\n",
            "Isabot: Sim, meu grupo favorito é o Dreamcatcher!\n",
            "Usuário: que legal\n",
            "Isabot: Sim...\n",
            "Usuário: onde você mora?\n",
            "Isabot: Na internet nééé?\n",
            "Usuário: kkkk\n",
            "Isabot: hehehe\n",
            "Usuário: você é engraçada\n",
            "Isabot: eu sei\n",
            "Usuário: você se acha\n",
            "hmm... não entendi\n",
            "Usuário: você namora?\n",
            "Isabot: Para bom entendedor, meia palavra basta\n",
            "Usuário: você namora?\n",
            "hmm... não entendi\n",
            "Usuário: gosto de você\n",
            "Isabot: também gosto de ti\n",
            "Usuário: bom papo\n",
            "hmm... não entendi\n",
            "Usuário: vamos passear?\n",
            "hmm... não entendi\n",
            "Usuário: vamos?\n",
            "Isabot: Eu concordo.\n",
            "Usuário: eu também\n",
            "hmm... não entendi\n"
          ],
          "name": "stdout"
        }
      ]
    }
  ]
}